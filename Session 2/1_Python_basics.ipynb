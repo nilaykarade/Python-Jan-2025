{
  "nbformat": 4,
  "nbformat_minor": 0,
  "metadata": {
    "colab": {
      "provenance": []
    },
    "kernelspec": {
      "name": "python3",
      "display_name": "Python 3"
    },
    "language_info": {
      "name": "python"
    }
  },
  "cells": [
    {
      "cell_type": "markdown",
      "source": [
        "The print() function is used to output data to the standard output device, typically the console."
      ],
      "metadata": {
        "id": "bJCkRoc5vokH"
      }
    },
    {
      "cell_type": "code",
      "execution_count": null,
      "metadata": {
        "colab": {
          "base_uri": "https://localhost:8080/"
        },
        "id": "RKmaRC7LbhaA",
        "outputId": "0d3a400b-a7b7-4d3a-dc45-964e8ebf9947"
      },
      "outputs": [
        {
          "output_type": "stream",
          "name": "stdout",
          "text": [
            "Welcome!!!\n"
          ]
        }
      ],
      "source": [
        "print(\"Welcome!!!\")"
      ]
    },
    {
      "cell_type": "markdown",
      "source": [
        "Print a your favourite book/movie title\n"
      ],
      "metadata": {
        "id": "hQckL-7kQr5H"
      }
    },
    {
      "cell_type": "code",
      "source": [
        "print(\"Cast Away\")"
      ],
      "metadata": {
        "id": "DdSnAsLtQqN8",
        "colab": {
          "base_uri": "https://localhost:8080/"
        },
        "outputId": "14bf8775-0ecd-449f-e0e5-3de840c164a1"
      },
      "execution_count": null,
      "outputs": [
        {
          "output_type": "stream",
          "name": "stdout",
          "text": [
            "Cast Away\n"
          ]
        }
      ]
    },
    {
      "cell_type": "code",
      "source": [
        "print(25)"
      ],
      "metadata": {
        "colab": {
          "base_uri": "https://localhost:8080/"
        },
        "id": "5aNHc5wBqoGI",
        "outputId": "7527f7ce-df84-409d-a1d0-361467c39703"
      },
      "execution_count": null,
      "outputs": [
        {
          "output_type": "stream",
          "name": "stdout",
          "text": [
            "25\n"
          ]
        }
      ]
    },
    {
      "cell_type": "code",
      "source": [
        "print(176.5)"
      ],
      "metadata": {
        "colab": {
          "base_uri": "https://localhost:8080/"
        },
        "id": "c5HtZShOqrcy",
        "outputId": "5f0ae9b0-37a0-45ae-abb1-f241d09a5417"
      },
      "execution_count": null,
      "outputs": [
        {
          "output_type": "stream",
          "name": "stdout",
          "text": [
            "176.5\n"
          ]
        }
      ]
    },
    {
      "cell_type": "markdown",
      "source": [
        "#Rules for variable naming\n",
        "Must start with a letter (a-z, A-Z) or an underscore (_).\n",
        "\n",
        "Can be followed by letters, digits (0-9), or underscores.\n",
        "\n",
        "Cannot start with a digit.\n",
        "\n",
        "Are case-sensitive (Age and age are different)\n",
        "\n",
        "Examples:\n",
        "\n",
        "Valid: myVariable, _my_variable, variable123\n",
        "\n",
        "Invalid: 1variable, variable-name, variable!\n"
      ],
      "metadata": {
        "id": "956qDtbpgRZZ"
      }
    },
    {
      "cell_type": "code",
      "source": [
        "#variable initialization\n",
        "age=44\n",
        "Age=7\n",
        "print(age)\n",
        "print(Age)"
      ],
      "metadata": {
        "id": "qyMzziFRfE3n",
        "colab": {
          "base_uri": "https://localhost:8080/"
        },
        "outputId": "ace5315d-7a99-40f9-ad11-01e39b500a9f"
      },
      "execution_count": null,
      "outputs": [
        {
          "output_type": "stream",
          "name": "stdout",
          "text": [
            "44\n",
            "7\n"
          ]
        }
      ]
    },
    {
      "cell_type": "code",
      "source": [
        "acc_balance=10000"
      ],
      "metadata": {
        "id": "R7UuxLjhrYkM"
      },
      "execution_count": null,
      "outputs": []
    },
    {
      "cell_type": "code",
      "source": [
        "print(acc_balance)"
      ],
      "metadata": {
        "colab": {
          "base_uri": "https://localhost:8080/"
        },
        "id": "viDz7qA2rYKv",
        "outputId": "8d54093e-1abe-4d53-e95f-f8e5ac5f5b64"
      },
      "execution_count": null,
      "outputs": [
        {
          "output_type": "stream",
          "name": "stdout",
          "text": [
            "10000\n"
          ]
        }
      ]
    },
    {
      "cell_type": "markdown",
      "source": [
        "Printing variable values"
      ],
      "metadata": {
        "id": "IojO5gUDWnq9"
      }
    },
    {
      "cell_type": "code",
      "source": [
        "print(\"My age is \",age)"
      ],
      "metadata": {
        "colab": {
          "base_uri": "https://localhost:8080/"
        },
        "id": "3v40BWutfN9l",
        "outputId": "efee3eac-f640-4108-8458-b2dc3fc904fc"
      },
      "execution_count": null,
      "outputs": [
        {
          "output_type": "stream",
          "name": "stdout",
          "text": [
            "My age is  25\n"
          ]
        }
      ]
    },
    {
      "cell_type": "code",
      "source": [
        "acc_balance=123456\n",
        "print(\"Account balance = R\",acc_balance)"
      ],
      "metadata": {
        "colab": {
          "base_uri": "https://localhost:8080/"
        },
        "id": "q15K-g4pvBEL",
        "outputId": "aba655e4-f2ff-47cf-94e3-d19fc0b9177a"
      },
      "execution_count": null,
      "outputs": [
        {
          "output_type": "stream",
          "name": "stdout",
          "text": [
            "Account balance = R 10000\n"
          ]
        }
      ]
    },
    {
      "cell_type": "code",
      "source": [
        "age=30\n",
        "print(\"My age is\", age)"
      ],
      "metadata": {
        "colab": {
          "base_uri": "https://localhost:8080/"
        },
        "id": "xyPDVO5mfYS3",
        "outputId": "c6c22c91-481f-4346-d98a-7b5ce6c76c42"
      },
      "execution_count": null,
      "outputs": [
        {
          "output_type": "stream",
          "name": "stdout",
          "text": [
            "My age is age\n"
          ]
        }
      ]
    },
    {
      "cell_type": "markdown",
      "source": [
        "# Programming comments\n",
        "Comments in programming are text notes included within the code to provide explanations, clarifications, or to leave reminders for developers. They are ignored by the compiler or interpreter, meaning they do not affect the execution of the code.\n",
        "\n",
        "\n",
        "\n",
        "single line comment: #\n",
        "\n",
        "multiple line comment:\n",
        "\n",
        "\"\"\"\n",
        "This is\n",
        "\n",
        "a multiline\n",
        "\n",
        "comment\n",
        "\"\"\"\n",
        "\n",
        "\n"
      ],
      "metadata": {
        "id": "c4Udj1jnPv_k"
      }
    },
    {
      "cell_type": "code",
      "source": [
        "# print statement to display age value\n",
        "print(\"My age is \",age)"
      ],
      "metadata": {
        "id": "RMUrACxQW2lN"
      },
      "execution_count": null,
      "outputs": []
    },
    {
      "cell_type": "code",
      "source": [
        "\"\"\"\n",
        "print statement\n",
        "to display\n",
        "Hello message\n",
        "\"\"\"\n",
        "print(\"Hello\")"
      ],
      "metadata": {
        "colab": {
          "base_uri": "https://localhost:8080/"
        },
        "id": "5oHQLTU3y5E_",
        "outputId": "c6e1d1ac-7281-47dc-9b78-e82932d91020"
      },
      "execution_count": null,
      "outputs": [
        {
          "output_type": "stream",
          "name": "stdout",
          "text": [
            "Hello\n"
          ]
        }
      ]
    },
    {
      "cell_type": "code",
      "source": [
        "#Task - Initialize height variable and print it"
      ],
      "metadata": {
        "id": "XSuKCxYmf5Rp"
      },
      "execution_count": null,
      "outputs": []
    },
    {
      "cell_type": "code",
      "source": [
        "#initialising string variable\n",
        "name=\"Sibo\"\n",
        "print(\"My name is \", name)"
      ],
      "metadata": {
        "colab": {
          "base_uri": "https://localhost:8080/"
        },
        "id": "cSobx0nvf4w3",
        "outputId": "fb2d6ec3-b51b-4122-d872-680211f93eb6"
      },
      "execution_count": null,
      "outputs": [
        {
          "output_type": "stream",
          "name": "stdout",
          "text": [
            "My name is  Sibo\n"
          ]
        }
      ]
    },
    {
      "cell_type": "code",
      "source": [
        "#Task - Initialize country and capital variable and print them"
      ],
      "metadata": {
        "id": "hRjtXZVV3NfH"
      },
      "execution_count": null,
      "outputs": []
    },
    {
      "cell_type": "markdown",
      "source": [
        "#Special characters\n",
        "\n",
        "\\n New line character - adds a line break in the text.\n",
        "\n",
        "\\t - adds a tab in the text"
      ],
      "metadata": {
        "id": "ydLfJYzv340P"
      }
    },
    {
      "cell_type": "code",
      "source": [
        "print(\"My name is Nilay. I worked at Digital Regenesys. My skills include Data Science and AI\")"
      ],
      "metadata": {
        "colab": {
          "base_uri": "https://localhost:8080/"
        },
        "id": "cDlo5ESgmOgJ",
        "outputId": "4c1305a7-aa75-4871-9102-7b9c6d6fc77f"
      },
      "execution_count": null,
      "outputs": [
        {
          "output_type": "stream",
          "name": "stdout",
          "text": [
            "My name is Nilay. I worked at Digital Regenesys. My skills include Data Science and AI\n"
          ]
        }
      ]
    },
    {
      "cell_type": "code",
      "source": [
        "print(\"My name is Nilay.\\tI worked at Digital Regenesys.\\tMy skills include Data Science and AI\")"
      ],
      "metadata": {
        "colab": {
          "base_uri": "https://localhost:8080/"
        },
        "id": "Bv3hugKlmlb_",
        "outputId": "84bb1a7f-0760-4588-fcf0-7f5b57a98ef2"
      },
      "execution_count": null,
      "outputs": [
        {
          "output_type": "stream",
          "name": "stdout",
          "text": [
            "My name is Nilay.\tI worked at Digital Regenesys.\tMy skills include Data Science and AI\n"
          ]
        }
      ]
    },
    {
      "cell_type": "code",
      "source": [
        "#add \\n in the following print statement\n",
        "print(\"This is for the first time I am writing Python code. Python seems quite simple. I am loving it.\")"
      ],
      "metadata": {
        "id": "SfVBHoRsm2k3"
      },
      "execution_count": null,
      "outputs": []
    },
    {
      "cell_type": "code",
      "source": [
        "#add \\t in the following print statement\n",
        "print(\"This is for the first time I am writing Python code. Python seems quite simple. I am loving it.\")"
      ],
      "metadata": {
        "id": "MJHWwIFVr85Q"
      },
      "execution_count": null,
      "outputs": []
    },
    {
      "cell_type": "markdown",
      "source": [
        "Data Types in Python\n",
        "- int\n",
        "- float\n",
        "- string\n",
        "- boolean\n",
        "- list\n",
        "- tuple\n",
        "- dictionary"
      ],
      "metadata": {
        "id": "x8r8BWhx7nUc"
      }
    },
    {
      "cell_type": "code",
      "source": [
        "# data type\n",
        "age=33\n",
        "type(age)"
      ],
      "metadata": {
        "colab": {
          "base_uri": "https://localhost:8080/"
        },
        "id": "72KRAySkf4cq",
        "outputId": "2eaa0ebb-2379-4a83-f574-70529e31485e"
      },
      "execution_count": null,
      "outputs": [
        {
          "output_type": "execute_result",
          "data": {
            "text/plain": [
              "int"
            ]
          },
          "metadata": {},
          "execution_count": 30
        }
      ]
    },
    {
      "cell_type": "code",
      "source": [
        "height=177.8\n",
        "type(height)"
      ],
      "metadata": {
        "colab": {
          "base_uri": "https://localhost:8080/"
        },
        "id": "cUia6lXZ2CqZ",
        "outputId": "563db912-9baf-46a2-e273-5b7bf58a7d35"
      },
      "execution_count": null,
      "outputs": [
        {
          "output_type": "execute_result",
          "data": {
            "text/plain": [
              "float"
            ]
          },
          "metadata": {},
          "execution_count": 31
        }
      ]
    },
    {
      "cell_type": "code",
      "source": [
        "country=\"Kenya\"\n",
        "type(country)"
      ],
      "metadata": {
        "colab": {
          "base_uri": "https://localhost:8080/"
        },
        "id": "_Kpnf7xO2JOz",
        "outputId": "0d4bc515-d9b6-48cf-8ece-2cbc32abccb2"
      },
      "execution_count": null,
      "outputs": [
        {
          "output_type": "execute_result",
          "data": {
            "text/plain": [
              "str"
            ]
          },
          "metadata": {},
          "execution_count": 32
        }
      ]
    },
    {
      "cell_type": "code",
      "source": [
        "# get the data type of height, country, name using type()"
      ],
      "metadata": {
        "id": "qBt0wkhTh6UA"
      },
      "execution_count": null,
      "outputs": []
    },
    {
      "cell_type": "code",
      "source": [
        "#computation using variable\n",
        "#addition code\n",
        "x=5\n",
        "y=2\n",
        "sum=x+y\n",
        "print(sum)"
      ],
      "metadata": {
        "colab": {
          "base_uri": "https://localhost:8080/"
        },
        "id": "JDcrg1tSb_FE",
        "outputId": "95275804-edfa-4bbb-b2b7-e948615d9141"
      },
      "execution_count": null,
      "outputs": [
        {
          "output_type": "stream",
          "name": "stdout",
          "text": [
            "7\n"
          ]
        }
      ]
    },
    {
      "cell_type": "code",
      "source": [
        "#printing z value i.e. output\n",
        "print(\"The sum of x and y is \",sum)"
      ],
      "metadata": {
        "colab": {
          "base_uri": "https://localhost:8080/"
        },
        "id": "cnR5kWETcbc0",
        "outputId": "9a0eb0a4-4f5f-4189-aeaa-94f2274960cc"
      },
      "execution_count": null,
      "outputs": [
        {
          "output_type": "stream",
          "name": "stdout",
          "text": [
            "The sum of x and y is  7\n"
          ]
        }
      ]
    },
    {
      "cell_type": "code",
      "source": [
        "#printing input values i.e. x and y along with output value i.e. z\n",
        "print(\"The sum of\", x ,\" and \", y,\" is \",sum)"
      ],
      "metadata": {
        "colab": {
          "base_uri": "https://localhost:8080/"
        },
        "id": "TnXHdXfUd9iN",
        "outputId": "ac23eba3-db67-4163-bf46-5c1f4a0242f7"
      },
      "execution_count": null,
      "outputs": [
        {
          "output_type": "stream",
          "name": "stdout",
          "text": [
            "The sum of 5 and 2  is  7\n"
          ]
        }
      ]
    },
    {
      "cell_type": "markdown",
      "source": [
        "#Arithmetic operators :\n",
        "Addtion: +\n",
        "\n",
        "x+y\n",
        "\n",
        "Subtraction: -  \n",
        "\n",
        "x-y\n",
        "\n",
        "\n",
        "Multiplication: *\n",
        "\n",
        "x*y\n",
        "\n",
        "Division: /\n",
        "\n",
        "x/y\n",
        "\n",
        "\n",
        "Integer division: //\n",
        "\n",
        "x//y\n",
        "\n",
        "\n",
        "Modulus (Remainder):  %\n",
        "\n",
        "x%y\n",
        "\n",
        "\n",
        "Exponent: **\n",
        "\n",
        "x**y"
      ],
      "metadata": {
        "id": "OJ6pa3QPx57G"
      }
    },
    {
      "cell_type": "code",
      "source": [
        "x,y"
      ],
      "metadata": {
        "colab": {
          "base_uri": "https://localhost:8080/"
        },
        "id": "afCwLvUom6XD",
        "outputId": "09ef2153-ca44-455f-96a1-977e7145d1be"
      },
      "execution_count": null,
      "outputs": [
        {
          "output_type": "execute_result",
          "data": {
            "text/plain": [
              "(5, 2)"
            ]
          },
          "metadata": {},
          "execution_count": 2
        }
      ]
    },
    {
      "cell_type": "code",
      "source": [
        "difference=x-y\n",
        "print(difference)\n",
        "\n",
        "product=x*y\n",
        "print(product)\n",
        "\n",
        "quotient=x/y\n",
        "print(quotient)"
      ],
      "metadata": {
        "id": "wmHRPhk_cIki"
      },
      "execution_count": null,
      "outputs": []
    },
    {
      "cell_type": "code",
      "source": [
        "# Rrefined code with appropriate statements\n",
        "print(\"The subtraction of\", x ,\"and\", y,\" is \",difference)\n",
        "product=x*y\n",
        "print(\"The multiplication of\", x ,\"and\", y,\" is \",product)\n",
        "quotient=x/y\n",
        "print(\"The division of\", x ,\"and\", y,\" is \",quotient)"
      ],
      "metadata": {
        "colab": {
          "base_uri": "https://localhost:8080/"
        },
        "id": "mwh7YquteiPs",
        "outputId": "c9ca85b0-f3a3-456c-8e76-652c4a38a5d9"
      },
      "execution_count": null,
      "outputs": [
        {
          "output_type": "stream",
          "name": "stdout",
          "text": [
            "The subtraction of 5 and 2  is  3\n",
            "The multiplication of 5 and 2  is  10\n",
            "The division of 5 and 2  is  2.5\n"
          ]
        }
      ]
    },
    {
      "cell_type": "code",
      "source": [
        "result = x**y\n",
        "print(result)"
      ],
      "metadata": {
        "colab": {
          "base_uri": "https://localhost:8080/"
        },
        "id": "NRDpqvegp5nb",
        "outputId": "2d4402ff-764e-4a8f-c021-699197f491db"
      },
      "execution_count": null,
      "outputs": [
        {
          "output_type": "stream",
          "name": "stdout",
          "text": [
            "25\n"
          ]
        }
      ]
    },
    {
      "cell_type": "code",
      "source": [
        "#Task - Initialize variables a and b, calculate their subtraction, multiplcation and division and print their final output\n"
      ],
      "metadata": {
        "id": "jmrNfi3ox20a"
      },
      "execution_count": null,
      "outputs": []
    },
    {
      "cell_type": "markdown",
      "source": [
        "#Keywords\n",
        "Python has a set of reserved words that have special meanings and cannot be used as identifiers (such as variable names, function names, etc.). These reserved words are known as keywords. Here's a list of all the Python keywords:\n",
        "\n"
      ],
      "metadata": {
        "id": "ux_KRTK-lu0r"
      }
    },
    {
      "cell_type": "code",
      "source": [
        "import keyword\n",
        "print(\"Following is the list of keywords in Python\")\n",
        "print(keyword.kwlist)"
      ],
      "metadata": {
        "colab": {
          "base_uri": "https://localhost:8080/"
        },
        "id": "z5hygKs6luRj",
        "outputId": "465f35cf-2562-49df-dff5-b06888b64785"
      },
      "execution_count": null,
      "outputs": [
        {
          "output_type": "stream",
          "name": "stdout",
          "text": [
            "Following is the list of keywords in Python\n",
            "['False', 'None', 'True', 'and', 'as', 'assert', 'async', 'await', 'break', 'class', 'continue', 'def', 'del', 'elif', 'else', 'except', 'finally', 'for', 'from', 'global', 'if', 'import', 'in', 'is', 'lambda', 'nonlocal', 'not', 'or', 'pass', 'raise', 'return', 'try', 'while', 'with', 'yield']\n"
          ]
        }
      ]
    },
    {
      "cell_type": "code",
      "source": [
        "#billing app for coffee shop\n",
        "#initialise variables\n",
        "unit_price=10\n",
        "order_count=5\n",
        "\n",
        "#calculate bill amount\n",
        "bill_amount=unit_price*order_count\n",
        "\n",
        "#print the output\n",
        "print(\"The unit price = R\",unit_price)\n",
        "print(\"The order count = \",order_count)\n",
        "print(\"The bill amount = R\",bill_amount)"
      ],
      "metadata": {
        "colab": {
          "base_uri": "https://localhost:8080/"
        },
        "id": "dX68voMUl3Hw",
        "outputId": "a83683b7-e7a0-4968-8d35-610b639b8687"
      },
      "execution_count": null,
      "outputs": [
        {
          "output_type": "stream",
          "name": "stdout",
          "text": [
            "The unit price = R 10\n",
            "The order count =  5\n",
            "The bill amount = R 50\n"
          ]
        }
      ]
    },
    {
      "cell_type": "code",
      "source": [
        "\"\"\"\n",
        "Write a Python code to\n",
        "calculate sum of marks obtained in three subjects (maximum marks for each subject: 100)\n",
        "and print the final output\n",
        "\"\"\""
      ],
      "metadata": {
        "id": "mzjj1fTVtvqv"
      },
      "execution_count": null,
      "outputs": []
    },
    {
      "cell_type": "code",
      "source": [],
      "metadata": {
        "id": "E-bDnbCDunVL"
      },
      "execution_count": null,
      "outputs": []
    },
    {
      "cell_type": "markdown",
      "source": [
        "# input() Function\n",
        "The input() function is used to take input from the user. It reads a line from the input (usually from the user via the keyboard) and returns it as a string."
      ],
      "metadata": {
        "id": "BIqwm3UHv1ti"
      }
    },
    {
      "cell_type": "code",
      "source": [
        "x=input(\"Enter the value of x\")\n",
        "y=input(\"Enter the value of y\")\n",
        "sum=x+y\n",
        "print(sum)\n"
      ],
      "metadata": {
        "colab": {
          "base_uri": "https://localhost:8080/",
          "height": 0
        },
        "id": "8fJ88lI3AK6e",
        "outputId": "7400f508-f2d0-4416-a386-4b8c12d6c8d8"
      },
      "execution_count": 1,
      "outputs": [
        {
          "output_type": "stream",
          "name": "stdout",
          "text": [
            "Enter the value of x10\n",
            "Enter the value of y20\n",
            "1020\n"
          ]
        }
      ]
    },
    {
      "cell_type": "code",
      "source": [
        "type(x)"
      ],
      "metadata": {
        "colab": {
          "base_uri": "https://localhost:8080/",
          "height": 0
        },
        "id": "Ugh4HSjUAdPO",
        "outputId": "4985fcd8-3124-40a2-f554-138a86c1708d"
      },
      "execution_count": 2,
      "outputs": [
        {
          "output_type": "execute_result",
          "data": {
            "text/plain": [
              "str"
            ]
          },
          "metadata": {},
          "execution_count": 2
        }
      ]
    },
    {
      "cell_type": "code",
      "source": [
        "x=int(input(\"Enter the value of x\"))\n",
        "y=int(input(\"Enter the value of y\"))\n",
        "sum=x+y\n",
        "print(sum)\n"
      ],
      "metadata": {
        "id": "S8OuWIY9AnPh"
      },
      "execution_count": null,
      "outputs": []
    },
    {
      "cell_type": "markdown",
      "source": [
        "Billing app for coffee shop"
      ],
      "metadata": {
        "id": "HTziXHebAvc3"
      }
    },
    {
      "cell_type": "code",
      "source": [
        "#initialise variables\n",
        "unit_price=float(input(\"Enter the unit price:\"))\n",
        "order_count=int(input(\"Enter the order count:\"))"
      ],
      "metadata": {
        "colab": {
          "base_uri": "https://localhost:8080/"
        },
        "id": "yBzBX-5CvLQx",
        "outputId": "f80eebb8-1453-4eae-bcac-2c23ef150f0a"
      },
      "execution_count": null,
      "outputs": [
        {
          "name": "stdout",
          "output_type": "stream",
          "text": [
            "Enter the unit price:10.5\n",
            "Enter the order count:6\n"
          ]
        }
      ]
    },
    {
      "cell_type": "code",
      "source": [
        "#calculate bill amount\n",
        "bill_amount=unit_price*order_count\n",
        "\n",
        "#print the output\n",
        "print(\"The unit price = R\",unit_price)\n",
        "print(\"The order count = \",order_count)\n",
        "print(\"The bill amount = R\",bill_amount)"
      ],
      "metadata": {
        "colab": {
          "base_uri": "https://localhost:8080/"
        },
        "id": "eyS9ESOnvKx6",
        "outputId": "518ced10-3210-4ced-98ba-d01db2f879f0"
      },
      "execution_count": null,
      "outputs": [
        {
          "output_type": "stream",
          "name": "stdout",
          "text": [
            "The unit price = R 10.5\n",
            "The order count =  6\n",
            "The bill amount = R 63.0\n"
          ]
        }
      ]
    },
    {
      "cell_type": "code",
      "source": [
        "\"\"\"\n",
        "Task- Write a Python code to accept marks of three subjects using input function and\n",
        "calculate sum of marks (maximum marks for each subject: 100)\n",
        "and print the final output\n",
        "\"\"\""
      ],
      "metadata": {
        "id": "7NvSvybBwiL8"
      },
      "execution_count": null,
      "outputs": []
    },
    {
      "cell_type": "code",
      "source": [
        "\"\"\"\n",
        "Task- Write a Python code for the following scenario:\n",
        "A household consumes 350 units of electricity in a month, with the rate per unit being $0.15.\n",
        "Calculate the total electricity bill for the month and display the units consumed, rate per unit, and total electricity bill.\n",
        "\n",
        "\"\"\""
      ],
      "metadata": {
        "id": "mKAXeuiCN_5H"
      },
      "execution_count": null,
      "outputs": []
    },
    {
      "cell_type": "code",
      "source": [
        "\"\"\"\n",
        "Write a Python code for the following scenario:\n",
        "For a given value of basic salary, calaculate gross salary considering HRA as 20%, DA as 50% and PF as 11%.\n",
        "\"\"\""
      ],
      "metadata": {
        "id": "wCLr6KePOyqd"
      },
      "execution_count": null,
      "outputs": []
    },
    {
      "cell_type": "code",
      "source": [],
      "metadata": {
        "id": "i8FrGtNC-jJb"
      },
      "execution_count": null,
      "outputs": []
    }
  ]
}