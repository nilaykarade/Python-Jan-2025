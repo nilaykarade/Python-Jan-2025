{
  "nbformat": 4,
  "nbformat_minor": 0,
  "metadata": {
    "colab": {
      "provenance": []
    },
    "kernelspec": {
      "name": "python3",
      "display_name": "Python 3"
    },
    "language_info": {
      "name": "python"
    }
  },
  "cells": [
    {
      "cell_type": "markdown",
      "source": [
        "The print() function is used to output data to the standard output device, typically the console."
      ],
      "metadata": {
        "id": "bJCkRoc5vokH"
      }
    },
    {
      "cell_type": "code",
      "source": [
        "# 1. Descriptive and meaningful names\n",
        "\n",
        "# Storing the name of a student\n",
        "student_name = \"Alice\"\n",
        "print(\"Student Name:\", student_name)\n",
        "\n",
        "# Storing total marks obtained by a student\n",
        "total_marks = 95\n",
        "print(\"Total Marks:\", total_marks)\n",
        "\n",
        "# Storing the value of Pi, used in mathematical calculations\n",
        "pi_value = 3.14159\n",
        "print(\"Value of Pi:\", pi_value)\n",
        "\n",
        "# Storing the brand name of a car\n",
        "car_brand = \"Toyota\"\n",
        "print(\"Car Brand:\", car_brand)\n",
        "\n",
        "# Storing the salary of an employee in dollars\n",
        "employee_salary = 75000.50\n",
        "print(\"Employee Salary: $\", employee_salary)\n",
        "\n",
        "# 2. Following Python naming conventions\n",
        "\n",
        "# Storing the maximum speed limit of a vehicle in km/h\n",
        "max_speed = 120\n",
        "print(\"Max Speed:\", max_speed, \"km/h\")\n",
        "\n",
        "# Storing the number of students in a class\n",
        "num_of_students = 45\n",
        "print(\"Number of Students:\", num_of_students)\n",
        "\n",
        "# Boolean variable indicating whether a user is logged in or not\n",
        "is_logged_in = True\n",
        "print(\"Is User Logged In?\", is_logged_in)\n",
        "\n",
        "# Storing the first name of a person\n",
        "first_name = \"John\"\n",
        "print(\"First Name:\", first_name)\n",
        "\n",
        "# Storing the discount percentage on a product\n",
        "discount_percentage = 10.5\n",
        "print(\"Discount Percentage:\", discount_percentage, \"%\")\n"
      ],
      "metadata": {
        "id": "uDFySXhgYFJx"
      },
      "execution_count": null,
      "outputs": []
    },
    {
      "cell_type": "code",
      "source": [
        "Example 1: Guess the Output\n",
        "# Guess the output\n",
        "a = 5\n",
        "b = 10\n",
        "print(a + b)\n",
        "\n",
        "Example 2: Identify the Error\n",
        "# Identify the error\n",
        "x = 10\n",
        "y = 20\n",
        "print(x + y)\n",
        "print(z)\n",
        "\n",
        "Printing Variable Values\n",
        "\n",
        "Example 3: Guess the Output\n",
        "# Guess the output\n",
        "name = \"Alice\"\n",
        "age = 25\n",
        "print(name)\n",
        "print(age)\n",
        "\n",
        "Example 4: Identify the Error\n",
        "# Identify the error\n",
        "city = \"New York\"\n",
        "print(\"City: \" city)\n",
        "\n",
        "Printing Text and Variable Value\n",
        "Example 5: Guess the Output\n",
        "\n",
        "\n",
        "\n",
        "# Guess the output\n",
        "item = \"Laptop\"\n",
        "price = 999.99\n",
        "print(\"The price of the\", item, \"is $\", price)\n",
        "\n",
        "Example 6: Identify the Error\n",
        "# Identify the error\n",
        "temperature = 22.5\n",
        "print(\"The temperature is \" temperature \" degrees Celsius\")\n"
      ],
      "metadata": {
        "id": "n3Y1P3sya416"
      },
      "execution_count": null,
      "outputs": []
    },
    {
      "cell_type": "code",
      "source": [
        "\n",
        "Arithmetic Operations\n",
        "Example 9: Guess the Output\n",
        "# Guess the output\n",
        "a = 15\n",
        "b = 4\n",
        "print(a // b)\n",
        "print(a % b)\n",
        "\n",
        "Example 10: Identify the Error\n",
        "# Identify the error\n",
        "x = 10\n",
        "y = 0\n",
        "print(x / y)\n",
        "Input Function\n",
        "\n",
        "Example 11: Guess the Output\n",
        "# Guess the output\n",
        "name = input(\"Enter your name: \")\n",
        "print(\"Hello, \" + name + \"!\")\n",
        "\n",
        "Example 12: Identify the Error\n",
        "# Identify the error\n",
        "age = input(\"Enter your age: \")\n",
        "print(\"You are \" + age + \" years old\")\n",
        "\n",
        "Example 13: Guess the Output\n",
        "# Guess the output\n",
        "a = 5\n",
        "b = 3\n",
        "result = a ** b\n",
        "print(\"The result is:\", result)\n",
        "\n",
        "Example 14: Identify the Error\n",
        "# Identify the error\n",
        "length = 7\n",
        "width = 4\n",
        "area = length * width\n",
        "print(\"The area of the rectangle is \" area)\n",
        "\n",
        "Example 15: Guess the Output\n",
        "# Guess the output\n",
        "num1 = 8\n",
        "num2 = 2\n",
        "print(\"Sum:\", num1 + num2)\n",
        "print(\"Difference:\", num1 - num2)\n",
        "print(\"Product:\", num1 * num2)\n",
        "print(\"Quotient:\", num1 / num2)\n",
        "\n",
        "Example 16: Identify the Error\n",
        "# Identify the error\n",
        "text = \" is fun\"\n",
        "print(text + !)\n",
        "\n",
        "Example 17: Guess the Output\n",
        "# Guess the output\n",
        "x = 25\n",
        "y = 5\n",
        "z = x % y\n",
        "print(\"The remainder is:\", z)\n",
        "\n",
        "Example 18: Identify the Error\n",
        "# Identify the error\n",
        "message = \"Welcome to  programming\"\n",
        "print(\"Message: \" message)\n",
        "\n",
        "Example 19: Guess the Output\n",
        "# Guess the output\n",
        "value = input(\"Enter a number: \")\n",
        "print(\"You entered:\", value)\n",
        "\n",
        "Example 20: Identify the Error\n",
        "# Identify the error\n",
        "x = 10\n",
        "y = 5\n",
        "result = x + y\n",
        "print(\"The sum of x and y is: \" + result)\n"
      ],
      "metadata": {
        "id": "-zfkdlnUcP68"
      },
      "execution_count": null,
      "outputs": []
    },
    {
      "cell_type": "code",
      "execution_count": null,
      "metadata": {
        "colab": {
          "base_uri": "https://localhost:8080/"
        },
        "id": "RKmaRC7LbhaA",
        "outputId": "0d3a400b-a7b7-4d3a-dc45-964e8ebf9947"
      },
      "outputs": [
        {
          "output_type": "stream",
          "name": "stdout",
          "text": [
            "Welcome!!!\n"
          ]
        }
      ],
      "source": [
        "print(\"Welcome!!!\")"
      ]
    },
    {
      "cell_type": "markdown",
      "source": [
        "Print a your favourite book/movie title\n"
      ],
      "metadata": {
        "id": "hQckL-7kQr5H"
      }
    },
    {
      "cell_type": "code",
      "source": [
        "print(\"Cast Away\")"
      ],
      "metadata": {
        "id": "DdSnAsLtQqN8",
        "colab": {
          "base_uri": "https://localhost:8080/"
        },
        "outputId": "14bf8775-0ecd-449f-e0e5-3de840c164a1"
      },
      "execution_count": null,
      "outputs": [
        {
          "output_type": "stream",
          "name": "stdout",
          "text": [
            "Cast Away\n"
          ]
        }
      ]
    },
    {
      "cell_type": "code",
      "source": [
        "print(25)"
      ],
      "metadata": {
        "colab": {
          "base_uri": "https://localhost:8080/"
        },
        "id": "5aNHc5wBqoGI",
        "outputId": "7527f7ce-df84-409d-a1d0-361467c39703"
      },
      "execution_count": null,
      "outputs": [
        {
          "output_type": "stream",
          "name": "stdout",
          "text": [
            "25\n"
          ]
        }
      ]
    },
    {
      "cell_type": "code",
      "source": [
        "print(176.5)"
      ],
      "metadata": {
        "colab": {
          "base_uri": "https://localhost:8080/"
        },
        "id": "c5HtZShOqrcy",
        "outputId": "5f0ae9b0-37a0-45ae-abb1-f241d09a5417"
      },
      "execution_count": null,
      "outputs": [
        {
          "output_type": "stream",
          "name": "stdout",
          "text": [
            "176.5\n"
          ]
        }
      ]
    },
    {
      "cell_type": "markdown",
      "source": [
        "#Rules for variable naming\n",
        "Must start with a letter (a-z, A-Z) or an underscore (_).\n",
        "\n",
        "Can be followed by letters, digits (0-9), or underscores.\n",
        "\n",
        "Cannot start with a digit.\n",
        "\n",
        "Are case-sensitive (Age and age are different)\n",
        "\n",
        "Examples:\n",
        "\n",
        "Valid: myVariable, _my_variable, variable123\n",
        "\n",
        "Invalid: 1variable, variable-name, variable!\n"
      ],
      "metadata": {
        "id": "956qDtbpgRZZ"
      }
    },
    {
      "cell_type": "code",
      "source": [
        "#variable initialization\n",
        "age=44\n",
        "\n",
        "print(age)\n",
        "\n",
        "age=33\n",
        "\n",
        "print(age)"
      ],
      "metadata": {
        "id": "qyMzziFRfE3n",
        "colab": {
          "base_uri": "https://localhost:8080/"
        },
        "outputId": "5dda2d8e-5f13-4972-8d51-18837cafb9aa"
      },
      "execution_count": null,
      "outputs": [
        {
          "output_type": "stream",
          "name": "stdout",
          "text": [
            "44\n",
            "33\n"
          ]
        }
      ]
    },
    {
      "cell_type": "code",
      "source": [
        "acc_balance=10000"
      ],
      "metadata": {
        "id": "R7UuxLjhrYkM"
      },
      "execution_count": null,
      "outputs": []
    },
    {
      "cell_type": "code",
      "source": [
        "print(acc_balance)"
      ],
      "metadata": {
        "colab": {
          "base_uri": "https://localhost:8080/"
        },
        "id": "viDz7qA2rYKv",
        "outputId": "37f3fa5d-4598-447e-8ef6-0d383eca9522"
      },
      "execution_count": null,
      "outputs": [
        {
          "output_type": "stream",
          "name": "stdout",
          "text": [
            "10000\n"
          ]
        }
      ]
    },
    {
      "cell_type": "code",
      "source": [
        "coffee_price=20\n",
        "print(coffee_price)"
      ],
      "metadata": {
        "colab": {
          "base_uri": "https://localhost:8080/"
        },
        "id": "kKTtVjz-QXPD",
        "outputId": "dc79c0a2-d84c-483b-b931-ca7a9bf940a0"
      },
      "execution_count": null,
      "outputs": [
        {
          "output_type": "stream",
          "name": "stdout",
          "text": [
            "20\n"
          ]
        }
      ]
    },
    {
      "cell_type": "code",
      "source": [
        "distance_to_work=10\n",
        "print(distance_to_work)"
      ],
      "metadata": {
        "colab": {
          "base_uri": "https://localhost:8080/"
        },
        "id": "7xwp7EOjQidE",
        "outputId": "eb1de1c7-b4fc-41e7-a14d-636d81af67de"
      },
      "execution_count": null,
      "outputs": [
        {
          "output_type": "stream",
          "name": "stdout",
          "text": [
            "10\n"
          ]
        }
      ]
    },
    {
      "cell_type": "markdown",
      "source": [
        "Printing variable values"
      ],
      "metadata": {
        "id": "IojO5gUDWnq9"
      }
    },
    {
      "cell_type": "code",
      "source": [
        "age=25\n",
        "print(\"My age is \",age)"
      ],
      "metadata": {
        "colab": {
          "base_uri": "https://localhost:8080/"
        },
        "id": "3v40BWutfN9l",
        "outputId": "efee3eac-f640-4108-8458-b2dc3fc904fc"
      },
      "execution_count": null,
      "outputs": [
        {
          "output_type": "stream",
          "name": "stdout",
          "text": [
            "My age is  25\n"
          ]
        }
      ]
    },
    {
      "cell_type": "code",
      "source": [
        "acc_balance=123456\n",
        "print(\"Account balance = R\",acc_balance)"
      ],
      "metadata": {
        "colab": {
          "base_uri": "https://localhost:8080/"
        },
        "id": "q15K-g4pvBEL",
        "outputId": "06963a9d-94d2-4846-c0c1-054735267d01"
      },
      "execution_count": null,
      "outputs": [
        {
          "output_type": "stream",
          "name": "stdout",
          "text": [
            "Account balance = R 123456\n"
          ]
        }
      ]
    },
    {
      "cell_type": "code",
      "source": [
        "age=30\n",
        "print(\"My age is\", age)"
      ],
      "metadata": {
        "colab": {
          "base_uri": "https://localhost:8080/"
        },
        "id": "xyPDVO5mfYS3",
        "outputId": "c6c22c91-481f-4346-d98a-7b5ce6c76c42"
      },
      "execution_count": null,
      "outputs": [
        {
          "output_type": "stream",
          "name": "stdout",
          "text": [
            "My age is age\n"
          ]
        }
      ]
    },
    {
      "cell_type": "markdown",
      "source": [
        "# Programming comments\n",
        "Comments in programming are text notes included within the code to provide explanations, clarifications, or to leave reminders for developers. They are ignored by the compiler or interpreter, meaning they do not affect the execution of the code.\n",
        "\n",
        "\n",
        "\n",
        "single line comment: #\n",
        "\n",
        "multiple line comment:\n",
        "\n",
        "\"\"\"\n",
        "This is\n",
        "\n",
        "a multiline\n",
        "\n",
        "comment\n",
        "\"\"\"\n",
        "\n",
        "\n"
      ],
      "metadata": {
        "id": "c4Udj1jnPv_k"
      }
    },
    {
      "cell_type": "code",
      "source": [
        "# print statement to display age value\n",
        "print(\"My age is \",age)"
      ],
      "metadata": {
        "id": "RMUrACxQW2lN",
        "colab": {
          "base_uri": "https://localhost:8080/"
        },
        "outputId": "3d4e3834-aa8d-41c4-f987-451c341807df"
      },
      "execution_count": null,
      "outputs": [
        {
          "output_type": "stream",
          "name": "stdout",
          "text": [
            "My age is  33\n"
          ]
        }
      ]
    },
    {
      "cell_type": "code",
      "source": [
        "\"\"\"\n",
        "print statement\n",
        "to display\n",
        "Hello message\n",
        "\"\"\"\n",
        "print(\"Hello\")"
      ],
      "metadata": {
        "colab": {
          "base_uri": "https://localhost:8080/"
        },
        "id": "5oHQLTU3y5E_",
        "outputId": "c6e1d1ac-7281-47dc-9b78-e82932d91020"
      },
      "execution_count": null,
      "outputs": [
        {
          "output_type": "stream",
          "name": "stdout",
          "text": [
            "Hello\n"
          ]
        }
      ]
    },
    {
      "cell_type": "code",
      "source": [
        "amount=100\n",
        "print(amount)"
      ],
      "metadata": {
        "colab": {
          "base_uri": "https://localhost:8080/"
        },
        "id": "QSFZoaz4TEFD",
        "outputId": "7b541fa9-931b-498d-cc1c-a1b28a0bcfd3"
      },
      "execution_count": null,
      "outputs": [
        {
          "output_type": "stream",
          "name": "stdout",
          "text": [
            "100\n"
          ]
        }
      ]
    },
    {
      "cell_type": "code",
      "source": [
        "#Task - Initialize height variable and print it"
      ],
      "metadata": {
        "id": "XSuKCxYmf5Rp"
      },
      "execution_count": null,
      "outputs": []
    },
    {
      "cell_type": "code",
      "source": [
        "#variable\n",
        "yearly_sacco_dividends=10000.879\n",
        "print(\"The sacco yearly profit is KES =\", yearly_sacco_dividends)"
      ],
      "metadata": {
        "colab": {
          "base_uri": "https://localhost:8080/"
        },
        "id": "5eufsPlPTknh",
        "outputId": "ac2ffdc7-8490-4b86-bd1b-f92334d60ed2"
      },
      "execution_count": null,
      "outputs": [
        {
          "output_type": "stream",
          "name": "stdout",
          "text": [
            "The sacco yearly profit is KES = 10000.879\n"
          ]
        }
      ]
    },
    {
      "cell_type": "code",
      "source": [
        "Force=10\n",
        "print(\"My power\",Force)"
      ],
      "metadata": {
        "id": "JUqQQTW6T960"
      },
      "execution_count": null,
      "outputs": []
    },
    {
      "cell_type": "code",
      "source": [
        "Force=\"10w @ 100K\"\n",
        "print(\"My power\",Force)"
      ],
      "metadata": {
        "colab": {
          "base_uri": "https://localhost:8080/"
        },
        "id": "h6h2RkmvUpB0",
        "outputId": "efae8046-4a6f-4f4d-857e-61363ea81da6"
      },
      "execution_count": null,
      "outputs": [
        {
          "output_type": "stream",
          "name": "stdout",
          "text": [
            "My power 10w @ 100K\n"
          ]
        }
      ]
    },
    {
      "cell_type": "code",
      "source": [
        "#initialising string variable\n",
        "name=\"Sibo\"\n",
        "print(\"My name is \", name)"
      ],
      "metadata": {
        "colab": {
          "base_uri": "https://localhost:8080/"
        },
        "id": "cSobx0nvf4w3",
        "outputId": "05302a40-f94c-4a70-d7c4-0960bbf37827"
      },
      "execution_count": null,
      "outputs": [
        {
          "output_type": "stream",
          "name": "stdout",
          "text": [
            "My name is  Sibo\n"
          ]
        }
      ]
    },
    {
      "cell_type": "code",
      "source": [
        "#Task - Initialize country and capital variable and print them"
      ],
      "metadata": {
        "id": "hRjtXZVV3NfH"
      },
      "execution_count": null,
      "outputs": []
    },
    {
      "cell_type": "code",
      "source": [
        "x,y,z=1,2,3\n",
        "print=(x,y,z)"
      ],
      "metadata": {
        "id": "mP7Uq3ADV3q8"
      },
      "execution_count": null,
      "outputs": []
    },
    {
      "cell_type": "code",
      "source": [
        "country = 'India'\n",
        "city = 'New Delhi'\n",
        "print (country, 's capital city is ', city)"
      ],
      "metadata": {
        "colab": {
          "base_uri": "https://localhost:8080/"
        },
        "id": "9nqJCeN1VcQs",
        "outputId": "dfc59e28-6dc1-4907-f527-0410150204e1"
      },
      "execution_count": null,
      "outputs": [
        {
          "output_type": "stream",
          "name": "stdout",
          "text": [
            "India s capital city is  New Delhi\n"
          ]
        }
      ]
    },
    {
      "cell_type": "code",
      "source": [
        "country = \"Kenya\"\n",
        "City = \"Nairobi\"\n",
        "print(country, \"capital city is\",City)"
      ],
      "metadata": {
        "colab": {
          "base_uri": "https://localhost:8080/"
        },
        "id": "ykRBAQUQXih_",
        "outputId": "ac20e043-f63b-462d-aa38-f5b3081d02e8"
      },
      "execution_count": null,
      "outputs": [
        {
          "output_type": "stream",
          "name": "stdout",
          "text": [
            "Kenya capital city is Nairobi\n"
          ]
        }
      ]
    },
    {
      "cell_type": "code",
      "source": [
        "country = \"Kenya\"\n",
        "population = 50000000\n",
        "print(country, \"population is\",population)"
      ],
      "metadata": {
        "colab": {
          "base_uri": "https://localhost:8080/"
        },
        "id": "RTAIZu4pYDqu",
        "outputId": "a9625823-82da-43a8-ed1f-180cdfbfea24"
      },
      "execution_count": null,
      "outputs": [
        {
          "output_type": "stream",
          "name": "stdout",
          "text": [
            "Kenya population is 5000000\n"
          ]
        }
      ]
    },
    {
      "cell_type": "code",
      "source": [
        "Age=28\n",
        "name=\"Catherine Wairimu Muiruri\"\n",
        "Live=\"Allsoaps\"\n",
        "print(\"My name is\",name, \"I am\",Age,\"years old\", and I live in\",Live)"
      ],
      "metadata": {
        "id": "vdFtpiS7Z6gV"
      },
      "execution_count": null,
      "outputs": []
    },
    {
      "cell_type": "code",
      "source": [
        "F= \"Kawo @ 75\"\n",
        "R= 200000000.986\n",
        "E= \"People\"\n",
        "D= \"And over 1 billion animals\"\n",
        "print(F,R,E,D)"
      ],
      "metadata": {
        "colab": {
          "base_uri": "https://localhost:8080/"
        },
        "id": "T2b7yWozdCBr",
        "outputId": "4ac93bd6-b6bb-4942-b6b8-34f43d88b4e9"
      },
      "execution_count": null,
      "outputs": [
        {
          "output_type": "stream",
          "name": "stdout",
          "text": [
            "Kawo @ 75 200000000 People And over 1 billion animals\n"
          ]
        }
      ]
    },
    {
      "cell_type": "code",
      "source": [
        "location=\"Bushbuckridge\"\n",
        "date_=29\n",
        "month=\"december\"\n",
        "year=1993\n",
        "print(\"I was born in \",location, \" on the \" , date_, \"of\", month,\" \", year)"
      ],
      "metadata": {
        "colab": {
          "base_uri": "https://localhost:8080/",
          "height": 176
        },
        "id": "Oz9rCa2efUH7",
        "outputId": "14dcea4a-9972-4099-c1bf-6aefb2fa3058"
      },
      "execution_count": null,
      "outputs": [
        {
          "output_type": "error",
          "ename": "TypeError",
          "evalue": "'tuple' object is not callable",
          "traceback": [
            "\u001b[0;31m---------------------------------------------------------------------------\u001b[0m",
            "\u001b[0;31mTypeError\u001b[0m                                 Traceback (most recent call last)",
            "\u001b[0;32m<ipython-input-41-4dbecdab490a>\u001b[0m in \u001b[0;36m<cell line: 0>\u001b[0;34m()\u001b[0m\n\u001b[1;32m      3\u001b[0m \u001b[0mmonth\u001b[0m\u001b[0;34m=\u001b[0m\u001b[0;34m\"december\"\u001b[0m\u001b[0;34m\u001b[0m\u001b[0;34m\u001b[0m\u001b[0m\n\u001b[1;32m      4\u001b[0m \u001b[0myear\u001b[0m\u001b[0;34m=\u001b[0m\u001b[0;36m1993\u001b[0m\u001b[0;34m\u001b[0m\u001b[0;34m\u001b[0m\u001b[0m\n\u001b[0;32m----> 5\u001b[0;31m \u001b[0mprint\u001b[0m\u001b[0;34m(\u001b[0m\u001b[0;34m\"I was born in \"\u001b[0m\u001b[0;34m,\u001b[0m\u001b[0mlocation\u001b[0m\u001b[0;34m,\u001b[0m \u001b[0;34m\" on the \"\u001b[0m \u001b[0;34m,\u001b[0m \u001b[0mdate_\u001b[0m\u001b[0;34m,\u001b[0m \u001b[0;34m\"of\"\u001b[0m\u001b[0;34m,\u001b[0m \u001b[0mmonth\u001b[0m\u001b[0;34m,\u001b[0m\u001b[0;34m\" \"\u001b[0m\u001b[0;34m,\u001b[0m \u001b[0myear\u001b[0m\u001b[0;34m)\u001b[0m\u001b[0;34m\u001b[0m\u001b[0;34m\u001b[0m\u001b[0m\n\u001b[0m",
            "\u001b[0;31mTypeError\u001b[0m: 'tuple' object is not callable"
          ]
        }
      ]
    },
    {
      "cell_type": "markdown",
      "source": [
        "#Special characters\n",
        "\n",
        "\\n New line character - adds a line break in the text.\n",
        "\n",
        "\\t - adds a tab in the text"
      ],
      "metadata": {
        "id": "ydLfJYzv340P"
      }
    },
    {
      "cell_type": "code",
      "source": [
        "print(\"My name is Nilay. I worked at Digital Regenesys. My skills include Data Science and AI\")"
      ],
      "metadata": {
        "colab": {
          "base_uri": "https://localhost:8080/"
        },
        "id": "cDlo5ESgmOgJ",
        "outputId": "4c1305a7-aa75-4871-9102-7b9c6d6fc77f"
      },
      "execution_count": null,
      "outputs": [
        {
          "output_type": "stream",
          "name": "stdout",
          "text": [
            "My name is Nilay. I worked at Digital Regenesys. My skills include Data Science and AI\n"
          ]
        }
      ]
    },
    {
      "cell_type": "code",
      "source": [
        "print(\"My name is Nilay.\\tI worked at Digital Regenesys.\\tMy skills include Data Science and AI\")"
      ],
      "metadata": {
        "colab": {
          "base_uri": "https://localhost:8080/"
        },
        "id": "Bv3hugKlmlb_",
        "outputId": "84bb1a7f-0760-4588-fcf0-7f5b57a98ef2"
      },
      "execution_count": null,
      "outputs": [
        {
          "output_type": "stream",
          "name": "stdout",
          "text": [
            "My name is Nilay.\tI worked at Digital Regenesys.\tMy skills include Data Science and AI\n"
          ]
        }
      ]
    },
    {
      "cell_type": "code",
      "source": [
        "#add \\n in the following print statement\n",
        "print(\"This is for the first time I am writing Python code. \\nPython seems quite simple. \\nI am loving it.\")"
      ],
      "metadata": {
        "id": "SfVBHoRsm2k3",
        "colab": {
          "base_uri": "https://localhost:8080/"
        },
        "outputId": "2c14ad04-0fab-4bac-9cb8-c287b5c8f751"
      },
      "execution_count": null,
      "outputs": [
        {
          "output_type": "stream",
          "name": "stdout",
          "text": [
            "This is for the first time I am writing Python code. \n",
            "Python seems quite simple. \n",
            "I am loving it.\n"
          ]
        }
      ]
    },
    {
      "cell_type": "code",
      "source": [
        "#add \\t in the following print statement\n",
        "print(\"This is for the first time I am writing Python code. Python seems quite simple. I am loving it.\")"
      ],
      "metadata": {
        "id": "MJHWwIFVr85Q"
      },
      "execution_count": null,
      "outputs": []
    },
    {
      "cell_type": "markdown",
      "source": [
        "Data Types in Python\n",
        "- int\n",
        "- float\n",
        "- string\n",
        "- boolean\n",
        "- list\n",
        "- tuple\n",
        "- dictionary"
      ],
      "metadata": {
        "id": "x8r8BWhx7nUc"
      }
    },
    {
      "cell_type": "code",
      "source": [
        "# data type\n",
        "age=33\n",
        "type(age)"
      ],
      "metadata": {
        "colab": {
          "base_uri": "https://localhost:8080/"
        },
        "id": "72KRAySkf4cq",
        "outputId": "2eaa0ebb-2379-4a83-f574-70529e31485e"
      },
      "execution_count": null,
      "outputs": [
        {
          "output_type": "execute_result",
          "data": {
            "text/plain": [
              "int"
            ]
          },
          "metadata": {},
          "execution_count": 30
        }
      ]
    },
    {
      "cell_type": "code",
      "source": [
        "height=177.8\n",
        "type(height)"
      ],
      "metadata": {
        "colab": {
          "base_uri": "https://localhost:8080/"
        },
        "id": "cUia6lXZ2CqZ",
        "outputId": "563db912-9baf-46a2-e273-5b7bf58a7d35"
      },
      "execution_count": null,
      "outputs": [
        {
          "output_type": "execute_result",
          "data": {
            "text/plain": [
              "float"
            ]
          },
          "metadata": {},
          "execution_count": 31
        }
      ]
    },
    {
      "cell_type": "code",
      "source": [
        "country=\"Kenya\"\n",
        "type(country)"
      ],
      "metadata": {
        "colab": {
          "base_uri": "https://localhost:8080/"
        },
        "id": "_Kpnf7xO2JOz",
        "outputId": "0d4bc515-d9b6-48cf-8ece-2cbc32abccb2"
      },
      "execution_count": null,
      "outputs": [
        {
          "output_type": "execute_result",
          "data": {
            "text/plain": [
              "str"
            ]
          },
          "metadata": {},
          "execution_count": 32
        }
      ]
    },
    {
      "cell_type": "code",
      "source": [
        "# get the data type of height, country, name using type()"
      ],
      "metadata": {
        "id": "qBt0wkhTh6UA"
      },
      "execution_count": null,
      "outputs": []
    },
    {
      "cell_type": "code",
      "source": [
        "#computation using variable\n",
        "#addition code\n",
        "# init. of variables\n",
        "x=5\n",
        "y=2\n",
        "#calculation\n",
        "sum=x+y\n",
        "#display the result\n",
        "print(sum)"
      ],
      "metadata": {
        "colab": {
          "base_uri": "https://localhost:8080/"
        },
        "id": "JDcrg1tSb_FE",
        "outputId": "811c70de-4cab-4b52-ef0d-d66c06e978d6"
      },
      "execution_count": 1,
      "outputs": [
        {
          "output_type": "stream",
          "name": "stdout",
          "text": [
            "7\n"
          ]
        }
      ]
    },
    {
      "cell_type": "code",
      "source": [
        "#printing sum value i.e. output\n",
        "print(\"The sum of x and y is \",sum)"
      ],
      "metadata": {
        "colab": {
          "base_uri": "https://localhost:8080/"
        },
        "id": "cnR5kWETcbc0",
        "outputId": "9a0eb0a4-4f5f-4189-aeaa-94f2274960cc"
      },
      "execution_count": null,
      "outputs": [
        {
          "output_type": "stream",
          "name": "stdout",
          "text": [
            "The sum of x and y is  7\n"
          ]
        }
      ]
    },
    {
      "cell_type": "code",
      "source": [
        "#printing input values i.e. x and y along with output value i.e. z\n",
        "print(\"The sum of\", x ,\" and \", y,\" is \",sum)"
      ],
      "metadata": {
        "colab": {
          "base_uri": "https://localhost:8080/"
        },
        "id": "TnXHdXfUd9iN",
        "outputId": "ac23eba3-db67-4163-bf46-5c1f4a0242f7"
      },
      "execution_count": null,
      "outputs": [
        {
          "output_type": "stream",
          "name": "stdout",
          "text": [
            "The sum of 5 and 2  is  7\n"
          ]
        }
      ]
    },
    {
      "cell_type": "markdown",
      "source": [
        "#Arithmetic operators :\n",
        "Addtion: +\n",
        "\n",
        "x+y\n",
        "\n",
        "Subtraction: -  \n",
        "\n",
        "x-y\n",
        "\n",
        "\n",
        "Multiplication: *\n",
        "\n",
        "x*y\n",
        "\n",
        "Division: /\n",
        "\n",
        "x/y\n",
        "\n",
        "\n",
        "Integer division: //\n",
        "\n",
        "x//y\n",
        "\n",
        "\n",
        "Modulus (Remainder):  %\n",
        "\n",
        "x%y\n",
        "\n",
        "\n",
        "Exponent: **\n",
        "\n",
        "x**y"
      ],
      "metadata": {
        "id": "OJ6pa3QPx57G"
      }
    },
    {
      "cell_type": "code",
      "source": [
        "x,y"
      ],
      "metadata": {
        "colab": {
          "base_uri": "https://localhost:8080/"
        },
        "id": "afCwLvUom6XD",
        "outputId": "09ef2153-ca44-455f-96a1-977e7145d1be"
      },
      "execution_count": null,
      "outputs": [
        {
          "output_type": "execute_result",
          "data": {
            "text/plain": [
              "(5, 2)"
            ]
          },
          "metadata": {},
          "execution_count": 2
        }
      ]
    },
    {
      "cell_type": "code",
      "source": [
        "difference=x-y\n",
        "print(difference)\n",
        "\n",
        "product=x*y\n",
        "print(product)\n",
        "\n",
        "quotient=x/y\n",
        "print(quotient)"
      ],
      "metadata": {
        "id": "wmHRPhk_cIki"
      },
      "execution_count": null,
      "outputs": []
    },
    {
      "cell_type": "code",
      "source": [
        "# Rrefined code with appropriate statements\n",
        "print(\"The subtraction of\", x ,\"and\", y,\" is \",difference)\n",
        "product=x*y\n",
        "print(\"The multiplication of\", x ,\"and\", y,\" is \",product)\n",
        "quotient=x/y\n",
        "print(\"The division of\", x ,\"and\", y,\" is \",quotient)"
      ],
      "metadata": {
        "colab": {
          "base_uri": "https://localhost:8080/"
        },
        "id": "mwh7YquteiPs",
        "outputId": "c9ca85b0-f3a3-456c-8e76-652c4a38a5d9"
      },
      "execution_count": null,
      "outputs": [
        {
          "output_type": "stream",
          "name": "stdout",
          "text": [
            "The subtraction of 5 and 2  is  3\n",
            "The multiplication of 5 and 2  is  10\n",
            "The division of 5 and 2  is  2.5\n"
          ]
        }
      ]
    },
    {
      "cell_type": "code",
      "source": [
        "result = x**y\n",
        "print()"
      ],
      "metadata": {
        "colab": {
          "base_uri": "https://localhost:8080/"
        },
        "id": "NRDpqvegp5nb",
        "outputId": "c1461617-3b9b-4a14-ed86-b44e4a7dd3be"
      },
      "execution_count": 4,
      "outputs": [
        {
          "output_type": "stream",
          "name": "stdout",
          "text": [
            "15625\n"
          ]
        }
      ]
    },
    {
      "cell_type": "code",
      "source": [
        "#Task - Initialize variables a and b, calculate their subtraction, multiplcation and division and print their final output\n"
      ],
      "metadata": {
        "id": "jmrNfi3ox20a"
      },
      "execution_count": null,
      "outputs": []
    },
    {
      "cell_type": "markdown",
      "source": [
        "#Keywords\n",
        "Python has a set of reserved words that have special meanings and cannot be used as identifiers (such as variable names, function names, etc.). These reserved words are known as keywords. Here's a list of all the Python keywords:\n",
        "\n"
      ],
      "metadata": {
        "id": "ux_KRTK-lu0r"
      }
    },
    {
      "cell_type": "code",
      "source": [
        "import keyword\n",
        "print(\"Following is the list of keywords in Python\")\n",
        "print(keyword.kwlist)"
      ],
      "metadata": {
        "colab": {
          "base_uri": "https://localhost:8080/"
        },
        "id": "z5hygKs6luRj",
        "outputId": "465f35cf-2562-49df-dff5-b06888b64785"
      },
      "execution_count": null,
      "outputs": [
        {
          "output_type": "stream",
          "name": "stdout",
          "text": [
            "Following is the list of keywords in Python\n",
            "['False', 'None', 'True', 'and', 'as', 'assert', 'async', 'await', 'break', 'class', 'continue', 'def', 'del', 'elif', 'else', 'except', 'finally', 'for', 'from', 'global', 'if', 'import', 'in', 'is', 'lambda', 'nonlocal', 'not', 'or', 'pass', 'raise', 'return', 'try', 'while', 'with', 'yield']\n"
          ]
        }
      ]
    },
    {
      "cell_type": "code",
      "source": [
        "#billing app for coffee shop\n",
        "#initialise variables\n",
        "unit_price=10\n",
        "order_count=5\n",
        "\n",
        "#calculate bill amount\n",
        "bill_amount=unit_price*order_count\n",
        "\n",
        "#print the output\n",
        "print(\"The unit price = R\",unit_price)\n",
        "print(\"The order count = \",order_count)\n",
        "print(\"The bill amount = R\",bill_amount)"
      ],
      "metadata": {
        "colab": {
          "base_uri": "https://localhost:8080/"
        },
        "id": "dX68voMUl3Hw",
        "outputId": "a83683b7-e7a0-4968-8d35-610b639b8687"
      },
      "execution_count": null,
      "outputs": [
        {
          "output_type": "stream",
          "name": "stdout",
          "text": [
            "The unit price = R 10\n",
            "The order count =  5\n",
            "The bill amount = R 50\n"
          ]
        }
      ]
    },
    {
      "cell_type": "code",
      "source": [
        "\"\"\"\n",
        "Write a Python code to\n",
        "calculate sum of marks obtained in three subjects (maximum marks for each subject: 100)\n",
        "and print the final output\n",
        "\"\"\""
      ],
      "metadata": {
        "id": "mzjj1fTVtvqv"
      },
      "execution_count": null,
      "outputs": []
    },
    {
      "cell_type": "code",
      "source": [],
      "metadata": {
        "id": "E-bDnbCDunVL"
      },
      "execution_count": null,
      "outputs": []
    },
    {
      "cell_type": "markdown",
      "source": [
        "# input() Function\n",
        "The input() function is used to take input from the user. It reads a line from the input (usually from the user via the keyboard) and returns it as a string."
      ],
      "metadata": {
        "id": "BIqwm3UHv1ti"
      }
    },
    {
      "cell_type": "code",
      "source": [
        "x=input(\"Enter the value of x\")\n",
        "y=input(\"Enter the value of y\")\n",
        "sum=x+y\n",
        "print(sum)\n"
      ],
      "metadata": {
        "colab": {
          "base_uri": "https://localhost:8080/"
        },
        "id": "8fJ88lI3AK6e",
        "outputId": "7400f508-f2d0-4416-a386-4b8c12d6c8d8"
      },
      "execution_count": null,
      "outputs": [
        {
          "output_type": "stream",
          "name": "stdout",
          "text": [
            "Enter the value of x10\n",
            "Enter the value of y20\n",
            "1020\n"
          ]
        }
      ]
    },
    {
      "cell_type": "code",
      "source": [
        "type(x)"
      ],
      "metadata": {
        "colab": {
          "base_uri": "https://localhost:8080/"
        },
        "id": "Ugh4HSjUAdPO",
        "outputId": "4985fcd8-3124-40a2-f554-138a86c1708d"
      },
      "execution_count": null,
      "outputs": [
        {
          "output_type": "execute_result",
          "data": {
            "text/plain": [
              "str"
            ]
          },
          "metadata": {},
          "execution_count": 2
        }
      ]
    },
    {
      "cell_type": "code",
      "source": [
        "x=int(input(\"Enter the value of x\"))\n",
        "y=int(input(\"Enter the value of y\"))\n",
        "sum=x+y\n",
        "print(sum)\n"
      ],
      "metadata": {
        "id": "S8OuWIY9AnPh"
      },
      "execution_count": null,
      "outputs": []
    },
    {
      "cell_type": "markdown",
      "source": [
        "Billing app for coffee shop"
      ],
      "metadata": {
        "id": "HTziXHebAvc3"
      }
    },
    {
      "cell_type": "code",
      "source": [
        "#initialise variables\n",
        "unit_price=float(input(\"Enter the unit price:\"))\n",
        "order_count=int(input(\"Enter the order count:\"))"
      ],
      "metadata": {
        "colab": {
          "base_uri": "https://localhost:8080/"
        },
        "id": "yBzBX-5CvLQx",
        "outputId": "f80eebb8-1453-4eae-bcac-2c23ef150f0a"
      },
      "execution_count": null,
      "outputs": [
        {
          "name": "stdout",
          "output_type": "stream",
          "text": [
            "Enter the unit price:10.5\n",
            "Enter the order count:6\n"
          ]
        }
      ]
    },
    {
      "cell_type": "code",
      "source": [
        "#calculate bill amount\n",
        "bill_amount=unit_price*order_count\n",
        "\n",
        "#print the output\n",
        "print(\"The unit price = R\",unit_price)\n",
        "print(\"The order count = \",order_count)\n",
        "print(\"The bill amount = R\",bill_amount)"
      ],
      "metadata": {
        "colab": {
          "base_uri": "https://localhost:8080/"
        },
        "id": "eyS9ESOnvKx6",
        "outputId": "518ced10-3210-4ced-98ba-d01db2f879f0"
      },
      "execution_count": null,
      "outputs": [
        {
          "output_type": "stream",
          "name": "stdout",
          "text": [
            "The unit price = R 10.5\n",
            "The order count =  6\n",
            "The bill amount = R 63.0\n"
          ]
        }
      ]
    },
    {
      "cell_type": "code",
      "source": [
        "\"\"\"\n",
        "Task- Write a Python code to accept marks of three subjects using input function and\n",
        "calculate sum of marks (maximum marks for each subject: 100)\n",
        "and print the final output\n",
        "\"\"\""
      ],
      "metadata": {
        "id": "7NvSvybBwiL8"
      },
      "execution_count": null,
      "outputs": []
    },
    {
      "cell_type": "code",
      "source": [
        "\"\"\"\n",
        "Task- Write a Python code for the following scenario:\n",
        "A household consumes 350 units of electricity in a month, with the rate per unit being $0.15.\n",
        "Calculate the total electricity bill for the month and display the units consumed, rate per unit, and total electricity bill.\n",
        "\n",
        "\"\"\""
      ],
      "metadata": {
        "id": "mKAXeuiCN_5H"
      },
      "execution_count": null,
      "outputs": []
    },
    {
      "cell_type": "code",
      "source": [
        "\"\"\"\n",
        "Write a Python code for the following scenario:\n",
        "For a given value of basic salary, calaculate gross salary considering HRA as 20%, DA as 50% and PF as 11%.\n",
        "\"\"\""
      ],
      "metadata": {
        "id": "wCLr6KePOyqd"
      },
      "execution_count": null,
      "outputs": []
    },
    {
      "cell_type": "code",
      "source": [],
      "metadata": {
        "id": "i8FrGtNC-jJb"
      },
      "execution_count": null,
      "outputs": []
    }
  ]
}